{
 "cells": [
  {
   "cell_type": "code",
   "execution_count": 24,
   "metadata": {},
   "outputs": [
    {
     "name": "stdout",
     "output_type": "stream",
     "text": [
      "Topic: /float0\n",
      "\tsamples=2360\n",
      "\tmissing=0\n",
      "Topic: /float1\n",
      "\tsamples=2330\n",
      "\tmissing=0\n",
      "Topic: /float2\n",
      "\tsamples=2360\n",
      "\tmissing=0\n",
      "Topic: /float3\n",
      "\tsamples=2360\n",
      "\tmissing=0\n",
      "Topic: /float4\n",
      "\tsamples=2305\n",
      "\tmissing=0\n",
      "Topic: /float5\n",
      "\tsamples=2325\n",
      "\tmissing=0\n",
      "Topic: /float6\n",
      "\tsamples=2330\n",
      "\tmissing=0\n"
     ]
    }
   ],
   "source": [
    "import rosbag\n",
    "import numpy as np\n",
    "import matplotlib.pyplot as plt\n",
    "bag=rosbag.Bag('/home/ossip/test.bag')\n",
    "\n",
    "N=7\n",
    "topicNames=[]\n",
    "for i in range(0,N):\n",
    "    topicNames.append('/float'+str(i))\n",
    "\n",
    "for topic in topicNames:\n",
    "    msgs=bag.read_messages(topics=[topic])\n",
    "    seq=[]\n",
    "    t=[]\n",
    "    x=[]\n",
    "    for msg in msgs:\n",
    "        seq.append(msg.message.header.seq)\n",
    "        t.append(msg.message.header.stamp.to_sec())\n",
    "        x.append(msg.message.data)\n",
    "    seq=np.array(seq)    \n",
    "    t=np.array(t)\n",
    "    x=np.array(x)\n",
    "    t=t[t.argsort()]\n",
    "    x=x[t.argsort()]\n",
    "    ideal=np.arange(x.min(),x.max()+1)\n",
    "    d=np.setdiff1d(x,ideal)\n",
    "    print('Topic: '+str(topic))\n",
    "    print('\\tsamples='+str(len(seq)))\n",
    "    print('\\tmissing='+str(len(d)))\n",
    "    #print('\\tmissing_indices='+str(d))    \n",
    "    np.setdiff1d(ideal,seq)        \n",
    "    \n",
    "    "
   ]
  },
  {
   "cell_type": "code",
   "execution_count": 25,
   "metadata": {},
   "outputs": [
    {
     "data": {
      "text/plain": [
       "[<matplotlib.lines.Line2D at 0x7f485b205310>]"
      ]
     },
     "execution_count": 25,
     "metadata": {},
     "output_type": "execute_result"
    },
    {
     "data": {
      "image/png": "[encoded data removed]",
      "text/plain": [
       "<Figure size 432x288 with 1 Axes>"
      ]
     },
     "metadata": {
      "needs_background": "light"
     },
     "output_type": "display_data"
    }
   ],
   "source": [
    "plt.plot(t,x)"
   ]
  },
  {
   "cell_type": "code",
   "execution_count": null,
   "metadata": {},
   "outputs": [],
   "source": [
    "msg"
   ]
  },
  {
   "cell_type": "code",
   "execution_count": null,
   "metadata": {},
   "outputs": [],
   "source": [
    "publishers"
   ]
  },
  {
   "cell_type": "code",
   "execution_count": null,
   "metadata": {},
   "outputs": [],
   "source": []
  },
  {
   "cell_type": "code",
   "execution_count": null,
   "metadata": {},
   "outputs": [],
   "source": []
  }
 ],
 "metadata": {
  "kernelspec": {
   "display_name": "Python 2",
   "language": "python",
   "name": "python2"
  },
  "language_info": {
   "codemirror_mode": {
    "name": "ipython",
    "version": 2
   },
   "file_extension": ".py",
   "mimetype": "text/x-python",
   "name": "python",
   "nbconvert_exporter": "python",
   "pygments_lexer": "ipython2",
   "version": "2.7.15rc1"
  }
 },
 "nbformat": 4,
 "nbformat_minor": 2
}
